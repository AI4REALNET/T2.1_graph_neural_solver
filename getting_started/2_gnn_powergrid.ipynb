{
 "cells": [
  {
   "cell_type": "markdown",
   "metadata": {},
   "source": [
    "# GNN solver for prediction of power flow\n",
    "This notebooks allows to train a Physics Informed GNN as shown in figures below. A MLP neural network is used to initiate the voltage angles, thereafter, a sucession of GNN Message Passing mechanism and Local Consevation (LC) layers allows the computation of power grid equations and errors.\n",
    "\n",
    "<div style=\"text-align: center;\">\n",
    "<img src=\"../imgs/gnn_eq_powergrid.png\" width=400 height=70 />\n",
    "</div>\n",
    "\n",
    "<div style=\"text-align: center;\">\n",
    "<img src=\"../imgs/gnn_scheme_powergrid.png\" width=600 height=250 />\n",
    "</div>"
   ]
  },
  {
   "cell_type": "code",
   "execution_count": 1,
   "metadata": {},
   "outputs": [],
   "source": [
    "import sys\n",
    "sys.path.append(\"../.\")"
   ]
  },
  {
   "cell_type": "code",
   "execution_count": 2,
   "metadata": {},
   "outputs": [],
   "source": [
    "import pathlib\n",
    "import numpy as np\n",
    "import matplotlib.pyplot as plt\n",
    "import torch\n",
    "from lips.benchmark.powergridBenchmark import PowerGridBenchmark\n",
    "from gnn_powergrid.dataset import prepare_dataset"
   ]
  },
  {
   "cell_type": "markdown",
   "metadata": {},
   "source": [
    "## Prepare the dataset"
   ]
  },
  {
   "cell_type": "code",
   "execution_count": 3,
   "metadata": {},
   "outputs": [],
   "source": [
    "env_name = \"l2rpn_case14_sandbox\"\n",
    "\n",
    "path = pathlib.Path().resolve().parent\n",
    "BENCH_CONFIG_PATH = path / \"configs\" / (env_name + \".ini\")\n",
    "DATA_PATH = path / \"Datasets\" / env_name / \"DC\"\n",
    "LOG_PATH = path / \"lips_logs.log\"\n",
    "\n",
    "benchmark = PowerGridBenchmark(benchmark_path=DATA_PATH,\n",
    "                               benchmark_name=\"Benchmark4\",#\"DoNothing\",\n",
    "                               load_data_set=True,\n",
    "                               config_path=BENCH_CONFIG_PATH,\n",
    "                               log_path=LOG_PATH)"
   ]
  },
  {
   "cell_type": "code",
   "execution_count": null,
   "metadata": {},
   "outputs": [],
   "source": [
    "# Creating data loaders for GNN. This step is integrated as data processing in GNN\n",
    "# device = torch.device(\"cpu\") # or \"cuda:0\" if you have any GPU\n",
    "# train_loader, val_loader, test_loader, test_ood_loader = prepare_dataset(benchmark=benchmark, \n",
    "#                                                                          batch_size=128, \n",
    "#                                                                          device=device)\n",
    "# batch = next(iter(test_loader))\n",
    "# print(batch)"
   ]
  },
  {
   "cell_type": "markdown",
   "metadata": {},
   "source": [
    "## Initialize the GNN solver"
   ]
  },
  {
   "cell_type": "code",
   "execution_count": 47,
   "metadata": {},
   "outputs": [],
   "source": [
    "from gnn_powergrid.gnn.gnn_simulator import GnnSimulator\n",
    "from gnn_powergrid.gnn.models.gnn import GPGmodel"
   ]
  },
  {
   "cell_type": "code",
   "execution_count": 48,
   "metadata": {},
   "outputs": [],
   "source": [
    "SIM_CONFIG_PATH = path / \"configs\" / \"gnn.ini\"\n",
    "gnn_simulator = GnnSimulator(model=GPGmodel,\n",
    "                             name=\"gnn_torch\",\n",
    "                             sim_config_path=SIM_CONFIG_PATH,\n",
    "                             input_size=2,\n",
    "                             output_size=1,\n",
    "                             epochs=2)"
   ]
  },
  {
   "cell_type": "code",
   "execution_count": 49,
   "metadata": {},
   "outputs": [
    {
     "data": {
      "text/plain": [
       "{'env_name': 'l2rpn_case14_sandbox',\n",
       " 'name': 'torch_gnn',\n",
       " 'ref_node': 0,\n",
       " 'num_gnn_layers': 10,\n",
       " 'latent_dimension': 20,\n",
       " 'hidden_layers': 3,\n",
       " 'input_dim': 2,\n",
       " 'output_dim': 1,\n",
       " 'train_batch_size': 128,\n",
       " 'eval_batch_size': 128,\n",
       " 'device': 'cpu',\n",
       " 'optimizer': {'name': 'adam', 'params': {'lr': 0.0003}},\n",
       " 'epochs': 2,\n",
       " 'train_with_discount': False,\n",
       " 'save_freq': False,\n",
       " 'ckpt_freq': 50,\n",
       " 'scaler': None,\n",
       " 'input_size': 2,\n",
       " 'output_size': 1}"
      ]
     },
     "execution_count": 49,
     "metadata": {},
     "output_type": "execute_result"
    }
   ],
   "source": [
    "gnn_simulator._model.params"
   ]
  },
  {
   "cell_type": "markdown",
   "metadata": {},
   "source": [
    "### Train the GNN solver"
   ]
  },
  {
   "cell_type": "code",
   "execution_count": null,
   "metadata": {},
   "outputs": [],
   "source": [
    "gnn_simulator.train(benchmark.train_dataset, benchmark.val_dataset)"
   ]
  },
  {
   "cell_type": "markdown",
   "metadata": {},
   "source": [
    "### Get the predictions on a specific dataset"
   ]
  },
  {
   "cell_type": "code",
   "execution_count": null,
   "metadata": {},
   "outputs": [],
   "source": [
    "predictions = gnn_simulator.predict(dataset=benchmark._test_dataset)"
   ]
  },
  {
   "cell_type": "markdown",
   "metadata": {},
   "source": [
    "### Evaluate the GNN solver using LIPS evaluation"
   ]
  },
  {
   "cell_type": "code",
   "execution_count": null,
   "metadata": {},
   "outputs": [],
   "source": [
    "metrics_test = benchmark.evaluate_simulator(dataset=\"all\", augmented_simulator=gnn_simulator)"
   ]
  },
  {
   "cell_type": "code",
   "execution_count": 55,
   "metadata": {},
   "outputs": [
    {
     "name": "stdout",
     "output_type": "stream",
     "text": [
      "{'test': {'ML': {'MAE_avg': {'p_ex': 1.9286174774169922,\n",
      "                             'p_or': 1.9286174774169922},\n",
      "                 'MAPE_10_avg': {'p_ex': 0.14798755201207694,\n",
      "                                 'p_or': 0.14798755201207694},\n",
      "                 'MAPE_90_avg': {'p_ex': 0.1526969598806569,\n",
      "                                 'p_or': 0.1526969598806569},\n",
      "                 'MAPE_avg': {'p_ex': 79694225473536.0,\n",
      "                              'p_or': 79694225473536.0},\n",
      "                 'MSE_avg': {'p_ex': 9.320919036865234,\n",
      "                             'p_or': 9.320919036865234}},\n",
      "          'Physics': {'CHECK_GC': {'mae': 1.0942078e-05,\n",
      "                                   'violation_percentage': 0.0,\n",
      "                                   'wmape': 1.0},\n",
      "                      'CHECK_LC': {'mae': 1.9472226934313903,\n",
      "                                   'mape': 0.0932005681107784,\n",
      "                                   'violation_percentage': 99.67571428571429},\n",
      "                      'CHECK_LOSS': {'violation_percentage': 0.0},\n",
      "                      'DISC_LINES': {'p_ex': 0.0,\n",
      "                                     'p_or': 0.0,\n",
      "                                     'violation_proportion': 0.0},\n",
      "                      'LOSS_POS': {'violation_proportion': 0.0}}},\n",
      " 'test_ood_topo': {'ML': {'MAE_avg': {'p_ex': 2.677875280380249,\n",
      "                                      'p_or': 2.677875280380249},\n",
      "                          'MAPE_10_avg': {'p_ex': 0.20816769599405877,\n",
      "                                          'p_or': 0.20816769599405877},\n",
      "                          'MAPE_90_avg': {'p_ex': 0.21830284584486562,\n",
      "                                          'p_or': 0.21830284584486562},\n",
      "                          'MAPE_avg': {'p_ex': 133797173526528.0,\n",
      "                                       'p_or': 133797173526528.0},\n",
      "                          'MSE_avg': {'p_ex': 21.159196853637695,\n",
      "                                      'p_or': 21.159196853637695}},\n",
      "                   'Physics': {'CHECK_GC': {'mae': 1.09466555e-05,\n",
      "                                            'violation_percentage': 0.0,\n",
      "                                            'wmape': 1.0},\n",
      "                               'CHECK_LC': {'mae': 2.5244847371830654,\n",
      "                                            'mape': 0.12005602423324081,\n",
      "                                            'violation_percentage': 99.67214285714286},\n",
      "                               'CHECK_LOSS': {'violation_percentage': 0.0},\n",
      "                               'DISC_LINES': {'p_ex': 0.0,\n",
      "                                              'p_or': 0.0,\n",
      "                                              'violation_proportion': 0.0},\n",
      "                               'LOSS_POS': {'violation_proportion': 0.0}}},\n",
      " 'val': {'ML': {'MAE_avg': {'p_ex': 1.8437790870666504,\n",
      "                            'p_or': 1.8437790870666504},\n",
      "                'MAPE_10_avg': {'p_ex': 0.14579028840550207,\n",
      "                                'p_or': 0.14579028840550207},\n",
      "                'MAPE_90_avg': {'p_ex': 0.1446871799049428,\n",
      "                                'p_or': 0.1446871799049428},\n",
      "                'MAPE_avg': {'p_ex': 76101418221568.0,\n",
      "                             'p_or': 76101418221568.0},\n",
      "                'MSE_avg': {'p_ex': 8.467517852783203,\n",
      "                            'p_or': 8.467517852783203}},\n",
      "         'Physics': {'CHECK_GC': {'mae': 1.08078e-05,\n",
      "                                  'violation_percentage': 0.0,\n",
      "                                  'wmape': 1.0},\n",
      "                     'CHECK_LC': {'mae': 1.8711488594343375,\n",
      "                                  'mape': 0.08826731183844874,\n",
      "                                  'violation_percentage': 99.6707142857143},\n",
      "                     'CHECK_LOSS': {'violation_percentage': 0.0},\n",
      "                     'DISC_LINES': {'p_ex': 0.0,\n",
      "                                    'p_or': 0.0,\n",
      "                                    'violation_proportion': 0.0},\n",
      "                     'LOSS_POS': {'violation_proportion': 0.0}}}}\n"
     ]
    }
   ],
   "source": [
    "from pprint import pprint\n",
    "pprint(metrics_test)"
   ]
  }
 ],
 "metadata": {
  "kernelspec": {
   "display_name": "lips_irt",
   "language": "python",
   "name": "python3"
  },
  "language_info": {
   "codemirror_mode": {
    "name": "ipython",
    "version": 3
   },
   "file_extension": ".py",
   "mimetype": "text/x-python",
   "name": "python",
   "nbconvert_exporter": "python",
   "pygments_lexer": "ipython3",
   "version": "3.10.14"
  }
 },
 "nbformat": 4,
 "nbformat_minor": 2
}
